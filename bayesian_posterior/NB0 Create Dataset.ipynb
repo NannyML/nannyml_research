{
 "cells": [
  {
   "cell_type": "code",
   "execution_count": 1,
   "id": "6d345599-6057-4370-8da1-17f8ec0bc1f3",
   "metadata": {},
   "outputs": [],
   "source": [
    "from pathlib import Path\n",
    "import pickle\n",
    "import datetime as dt\n",
    "import numpy as np\n",
    "import pandas as pd\n",
    "import scipy as sp\n",
    "import json\n",
    "import matplotlib.pyplot as plt\n",
    "# import boto3\n",
    "\n",
    "from typing import List\n",
    "# from random import choices\n",
    "from IPython.display import display\n",
    "# from sklearn.datasets import make_classification\n",
    "# from sklearn.model_selection import train_test_split\n",
    "# from sklearn.ensemble import RandomForestClassifier\n",
    "from sklearn.metrics import mean_absolute_error\n",
    "from sklearn.ensemble import GradientBoostingRegressor\n",
    "from sklearn.preprocessing import StandardScaler"
   ]
  },
  {
   "cell_type": "code",
   "execution_count": 2,
   "id": "2343f982-9476-4d9f-927c-3b739baf82cc",
   "metadata": {},
   "outputs": [],
   "source": [
    "SEED = 1426\n",
    "\n",
    "# Initial data distribution\n",
    "mean = [0, 0, 0, 0,]\n",
    "\n",
    "cov1 = [\n",
    "    [4, 0, 0, 0,],\n",
    "    [0, 4, 0, 0,],\n",
    "    [0, 0, 4, 0,],\n",
    "    [0, 0, 0, 4,],\n",
    "]  # diagonal covariance\n",
    "\n",
    "# create random positive semi definite matrix:\n",
    "# https://math.stackexchange.com/a/358092\n",
    "a1 = np.random.default_rng(seed=SEED).random((4,4))\n",
    "cov2 = np.matmul(a1.T, a1) #+ np.diag([0.000, 0.01, 0.03, 0.015, 0.02, 0.03, 0.01])"
   ]
  },
  {
   "cell_type": "code",
   "execution_count": 3,
   "id": "ca5e1d5f-90be-47e9-8388-18f2f4285059",
   "metadata": {},
   "outputs": [
    {
     "data": {
      "text/plain": [
       "array([4., 4., 4., 4.])"
      ]
     },
     "execution_count": 3,
     "metadata": {},
     "output_type": "execute_result"
    }
   ],
   "source": [
    "# all eiegenvalues must be >= 0 for a positive semi-definite matrix\n",
    "np.linalg.eigvals(cov1)"
   ]
  },
  {
   "cell_type": "code",
   "execution_count": 4,
   "id": "281b67c1-3a14-4ca1-ad61-53f3a06d6469",
   "metadata": {},
   "outputs": [
    {
     "data": {
      "text/plain": [
       "array([4.55492062, 0.7339301 , 0.37903297, 0.00830202])"
      ]
     },
     "execution_count": 4,
     "metadata": {},
     "output_type": "execute_result"
    }
   ],
   "source": [
    "# all eiegenvalues must be >= 0 for a positive semi-definite matrix\n",
    "np.linalg.eigvals(cov2)"
   ]
  },
  {
   "cell_type": "code",
   "execution_count": 5,
   "id": "054c01cf-4068-478c-ae29-10f015ecd80f",
   "metadata": {},
   "outputs": [
    {
     "data": {
      "text/plain": [
       "(150000, 4)"
      ]
     },
     "execution_count": 5,
     "metadata": {},
     "output_type": "execute_result"
    }
   ],
   "source": [
    "x1 = np.random.default_rng(seed=SEED).multivariate_normal(mean, cov1, 150_000)\n",
    "x1.shape"
   ]
  },
  {
   "cell_type": "code",
   "execution_count": 6,
   "id": "372cf0f6-be4f-45a8-b46c-0d2413ab7232",
   "metadata": {},
   "outputs": [
    {
     "data": {
      "text/plain": [
       "(30000, 4)"
      ]
     },
     "execution_count": 6,
     "metadata": {},
     "output_type": "execute_result"
    }
   ],
   "source": [
    "x2 = np.random.default_rng(seed=SEED+1).multivariate_normal(mean, cov2, 30_000)\n",
    "x2.shape"
   ]
  },
  {
   "cell_type": "code",
   "execution_count": 7,
   "id": "c6c974e5-69b3-4174-8954-d202848cbd14",
   "metadata": {},
   "outputs": [
    {
     "data": {
      "text/plain": [
       "(180000, 4)"
      ]
     },
     "execution_count": 7,
     "metadata": {},
     "output_type": "execute_result"
    }
   ],
   "source": [
    "x3 = np.concatenate((x1, x2), axis=0)\n",
    "x3.shape"
   ]
  },
  {
   "cell_type": "code",
   "execution_count": 8,
   "id": "dae3d6f0-bab9-46ba-ae0f-493886c7a50f",
   "metadata": {},
   "outputs": [],
   "source": [
    "del x1, x2"
   ]
  },
  {
   "cell_type": "code",
   "execution_count": 9,
   "id": "14906c97-2e58-4d30-ba0b-86f554cd4cc2",
   "metadata": {},
   "outputs": [
    {
     "data": {
      "text/html": [
       "<div>\n",
       "<style scoped>\n",
       "    .dataframe tbody tr th:only-of-type {\n",
       "        vertical-align: middle;\n",
       "    }\n",
       "\n",
       "    .dataframe tbody tr th {\n",
       "        vertical-align: top;\n",
       "    }\n",
       "\n",
       "    .dataframe thead th {\n",
       "        text-align: right;\n",
       "    }\n",
       "</style>\n",
       "<table border=\"1\" class=\"dataframe\">\n",
       "  <thead>\n",
       "    <tr style=\"text-align: right;\">\n",
       "      <th></th>\n",
       "      <th>feature1</th>\n",
       "      <th>feature2</th>\n",
       "      <th>feature3</th>\n",
       "      <th>feature4</th>\n",
       "    </tr>\n",
       "  </thead>\n",
       "  <tbody>\n",
       "    <tr>\n",
       "      <th>0</th>\n",
       "      <td>1.220802</td>\n",
       "      <td>2.190876</td>\n",
       "      <td>0.360013</td>\n",
       "      <td>3.292751</td>\n",
       "    </tr>\n",
       "    <tr>\n",
       "      <th>1</th>\n",
       "      <td>0.461790</td>\n",
       "      <td>3.782660</td>\n",
       "      <td>2.599774</td>\n",
       "      <td>3.282467</td>\n",
       "    </tr>\n",
       "    <tr>\n",
       "      <th>2</th>\n",
       "      <td>3.711265</td>\n",
       "      <td>-2.599387</td>\n",
       "      <td>-3.467779</td>\n",
       "      <td>0.871672</td>\n",
       "    </tr>\n",
       "    <tr>\n",
       "      <th>3</th>\n",
       "      <td>1.448967</td>\n",
       "      <td>-0.240156</td>\n",
       "      <td>0.446262</td>\n",
       "      <td>-2.591261</td>\n",
       "    </tr>\n",
       "    <tr>\n",
       "      <th>4</th>\n",
       "      <td>-0.106896</td>\n",
       "      <td>-0.737643</td>\n",
       "      <td>-0.548846</td>\n",
       "      <td>-1.156195</td>\n",
       "    </tr>\n",
       "  </tbody>\n",
       "</table>\n",
       "</div>"
      ],
      "text/plain": [
       "   feature1  feature2  feature3  feature4\n",
       "0  1.220802  2.190876  0.360013  3.292751\n",
       "1  0.461790  3.782660  2.599774  3.282467\n",
       "2  3.711265 -2.599387 -3.467779  0.871672\n",
       "3  1.448967 -0.240156  0.446262 -2.591261\n",
       "4 -0.106896 -0.737643 -0.548846 -1.156195"
      ]
     },
     "execution_count": 9,
     "metadata": {},
     "output_type": "execute_result"
    }
   ],
   "source": [
    "feature_names = [f\"feature{i+1}\" for i in range(x3.shape[1])]\n",
    "data = pd.DataFrame(x3, columns=feature_names)\n",
    "data.head()"
   ]
  },
  {
   "cell_type": "code",
   "execution_count": 10,
   "id": "84ddbc96-2425-49ee-aeff-f7f63e2c99ab",
   "metadata": {},
   "outputs": [],
   "source": [
    "# Creating Generative Function\n",
    "\n",
    "# 1st 'pure' targets\n",
    "# regression coeeficients\n",
    "fn = np.array([-1, 2, 0.5, -0.5,]).reshape((4, 1))\n",
    "\n",
    "# target results\n",
    "t1 = np.matmul(x3, fn).reshape(180000,)"
   ]
  },
  {
   "cell_type": "code",
   "execution_count": 11,
   "id": "b6e5dd34-245b-42db-b567-6792db9a575c",
   "metadata": {},
   "outputs": [
    {
     "data": {
      "image/png": "[encoded data removed]",
      "text/plain": [
       "<Figure size 432x288 with 1 Axes>"
      ]
     },
     "metadata": {
      "needs_background": "light"
     },
     "output_type": "display_data"
    }
   ],
   "source": [
    " # Let's base noise std on feature4\n",
    "density = sp.stats.gaussian_kde(x3[30000:,3])\n",
    "x = np.arange(-6, 6, .05)\n",
    "plt.plot(x, density(x), label='orig')\n",
    "\n",
    "density = sp.stats.gaussian_kde(x3[:-30000,3])\n",
    "plt.plot(x, density(x), label='shift')\n",
    "plt.legend()\n",
    "plt.show()"
   ]
  },
  {
   "cell_type": "code",
   "execution_count": 12,
   "id": "0bef8ba3-b32e-45d4-bc6e-e2c3950b108d",
   "metadata": {},
   "outputs": [],
   "source": [
    "# Adding gaussian noise\n",
    "rng = np.random.default_rng(seed=SEED+2)\n",
    "s1 = np.square(x3[:,3])\n",
    "t2 = rng.normal(loc=t1, scale=s1, size=180000)"
   ]
  },
  {
   "cell_type": "code",
   "execution_count": 13,
   "id": "31062f7e-2e99-4782-9d72-ad08ce490499",
   "metadata": {},
   "outputs": [
    {
     "data": {
      "text/plain": [
       "2.8451920449652643"
      ]
     },
     "execution_count": 13,
     "metadata": {},
     "output_type": "execute_result"
    }
   ],
   "source": [
    "# overall abs error\n",
    "mean_absolute_error(\n",
    "    y_true=t1,\n",
    "    y_pred=t2)"
   ]
  },
  {
   "cell_type": "code",
   "execution_count": 14,
   "id": "7a90737c-a2e9-4907-8704-327ce0f8f9bc",
   "metadata": {},
   "outputs": [
    {
     "data": {
      "image/png": "[encoded data removed]",
      "text/plain": [
       "<Figure size 432x288 with 1 Axes>"
      ]
     },
     "metadata": {
      "needs_background": "light"
     },
     "output_type": "display_data"
    }
   ],
   "source": [
    "density = sp.stats.gaussian_kde(t1)\n",
    "x = np.arange(-11, 11, .1)\n",
    "plt.plot(x, density(x), label='orig')\n",
    "\n",
    "density = sp.stats.gaussian_kde(t2)\n",
    "plt.plot(x, density(x), label='noise')\n",
    "plt.legend()\n",
    "plt.show()"
   ]
  },
  {
   "cell_type": "code",
   "execution_count": 15,
   "id": "57b68a33-6f84-429d-9f7e-121b79cb6095",
   "metadata": {},
   "outputs": [
    {
     "data": {
      "text/plain": [
       "<matplotlib.collections.PathCollection at 0x7fcf7ffb41c0>"
      ]
     },
     "execution_count": 15,
     "metadata": {},
     "output_type": "execute_result"
    },
    {
     "data": {
      "image/png": "[encoded data removed]",
      "text/plain": [
       "<Figure size 432x288 with 1 Axes>"
      ]
     },
     "metadata": {
      "needs_background": "light"
     },
     "output_type": "display_data"
    }
   ],
   "source": [
    "plt.scatter(t1, t2, s=2)"
   ]
  },
  {
   "cell_type": "markdown",
   "id": "f0efd472-6f10-41dc-bbea-966067cd58f9",
   "metadata": {},
   "source": [
    "# Let's convert into a dataset"
   ]
  },
  {
   "cell_type": "code",
   "execution_count": 16,
   "id": "f953ebd3-bee0-465f-b4fc-510907721462",
   "metadata": {},
   "outputs": [
    {
     "data": {
      "text/plain": [
       "train        60000\n",
       "reference    60000\n",
       "analysis     60000\n",
       "Name: partition, dtype: int64"
      ]
     },
     "execution_count": 16,
     "metadata": {},
     "output_type": "execute_result"
    }
   ],
   "source": [
    "data = data.assign(partition = 'train')\n",
    "data.loc[60000:, 'partition'] ='reference'\n",
    "data.loc[120000:, 'partition'] ='analysis'\n",
    "data.partition.value_counts()"
   ]
  },
  {
   "cell_type": "code",
   "execution_count": 17,
   "id": "45c410b9-2af5-4935-b5b2-028f305ed666",
   "metadata": {},
   "outputs": [
    {
     "data": {
      "text/plain": [
       "<AxesSubplot:ylabel='Density'>"
      ]
     },
     "execution_count": 17,
     "metadata": {},
     "output_type": "execute_result"
    },
    {
     "data": {
      "image/png": "[encoded data removed]",
      "text/plain": [
       "<Figure size 432x288 with 1 Axes>"
      ]
     },
     "metadata": {
      "needs_background": "light"
     },
     "output_type": "display_data"
    }
   ],
   "source": [
    "data.feature4[:30000].plot.kde(ind=np.arange(-5, 5, 0.02))\n",
    "data.feature4[-30000:].plot.kde(ind=np.arange(-5, 5, 0.02))"
   ]
  },
  {
   "cell_type": "code",
   "execution_count": 18,
   "id": "e822de43-1726-44d8-be80-dc6a0510fb7b",
   "metadata": {},
   "outputs": [
    {
     "data": {
      "text/html": [
       "<div>\n",
       "<style scoped>\n",
       "    .dataframe tbody tr th:only-of-type {\n",
       "        vertical-align: middle;\n",
       "    }\n",
       "\n",
       "    .dataframe tbody tr th {\n",
       "        vertical-align: top;\n",
       "    }\n",
       "\n",
       "    .dataframe thead th {\n",
       "        text-align: right;\n",
       "    }\n",
       "</style>\n",
       "<table border=\"1\" class=\"dataframe\">\n",
       "  <thead>\n",
       "    <tr style=\"text-align: right;\">\n",
       "      <th></th>\n",
       "      <th>feature1</th>\n",
       "      <th>feature2</th>\n",
       "      <th>feature3</th>\n",
       "      <th>feature4</th>\n",
       "      <th>partition</th>\n",
       "      <th>y_true</th>\n",
       "      <th>y_std</th>\n",
       "    </tr>\n",
       "  </thead>\n",
       "  <tbody>\n",
       "    <tr>\n",
       "      <th>0</th>\n",
       "      <td>1.220802</td>\n",
       "      <td>2.190876</td>\n",
       "      <td>0.360013</td>\n",
       "      <td>3.292751</td>\n",
       "      <td>train</td>\n",
       "      <td>-14.210923</td>\n",
       "      <td>10.842207</td>\n",
       "    </tr>\n",
       "    <tr>\n",
       "      <th>1</th>\n",
       "      <td>0.461790</td>\n",
       "      <td>3.782660</td>\n",
       "      <td>2.599774</td>\n",
       "      <td>3.282467</td>\n",
       "      <td>train</td>\n",
       "      <td>19.331988</td>\n",
       "      <td>10.774591</td>\n",
       "    </tr>\n",
       "    <tr>\n",
       "      <th>2</th>\n",
       "      <td>3.711265</td>\n",
       "      <td>-2.599387</td>\n",
       "      <td>-3.467779</td>\n",
       "      <td>0.871672</td>\n",
       "      <td>train</td>\n",
       "      <td>-11.321392</td>\n",
       "      <td>0.759812</td>\n",
       "    </tr>\n",
       "    <tr>\n",
       "      <th>3</th>\n",
       "      <td>1.448967</td>\n",
       "      <td>-0.240156</td>\n",
       "      <td>0.446262</td>\n",
       "      <td>-2.591261</td>\n",
       "      <td>train</td>\n",
       "      <td>1.631834</td>\n",
       "      <td>6.714633</td>\n",
       "    </tr>\n",
       "    <tr>\n",
       "      <th>4</th>\n",
       "      <td>-0.106896</td>\n",
       "      <td>-0.737643</td>\n",
       "      <td>-0.548846</td>\n",
       "      <td>-1.156195</td>\n",
       "      <td>train</td>\n",
       "      <td>0.604102</td>\n",
       "      <td>1.336787</td>\n",
       "    </tr>\n",
       "  </tbody>\n",
       "</table>\n",
       "</div>"
      ],
      "text/plain": [
       "   feature1  feature2  feature3  feature4 partition     y_true      y_std\n",
       "0  1.220802  2.190876  0.360013  3.292751     train -14.210923  10.842207\n",
       "1  0.461790  3.782660  2.599774  3.282467     train  19.331988  10.774591\n",
       "2  3.711265 -2.599387 -3.467779  0.871672     train -11.321392   0.759812\n",
       "3  1.448967 -0.240156  0.446262 -2.591261     train   1.631834   6.714633\n",
       "4 -0.106896 -0.737643 -0.548846 -1.156195     train   0.604102   1.336787"
      ]
     },
     "execution_count": 18,
     "metadata": {},
     "output_type": "execute_result"
    }
   ],
   "source": [
    "data = data.assign(y_true = t2)\n",
    "data = data.assign(y_std = s1)\n",
    "\n",
    "data.head()"
   ]
  },
  {
   "cell_type": "code",
   "execution_count": 19,
   "id": "9e1fc052-5191-4e08-a772-1b394ab927f1",
   "metadata": {},
   "outputs": [
    {
     "data": {
      "text/html": [
       "<style>#sk-container-id-1 {color: black;background-color: white;}#sk-container-id-1 pre{padding: 0;}#sk-container-id-1 div.sk-toggleable {background-color: white;}#sk-container-id-1 label.sk-toggleable__label {cursor: pointer;display: block;width: 100%;margin-bottom: 0;padding: 0.3em;box-sizing: border-box;text-align: center;}#sk-container-id-1 label.sk-toggleable__label-arrow:before {content: \"▸\";float: left;margin-right: 0.25em;color: #696969;}#sk-container-id-1 label.sk-toggleable__label-arrow:hover:before {color: black;}#sk-container-id-1 div.sk-estimator:hover label.sk-toggleable__label-arrow:before {color: black;}#sk-container-id-1 div.sk-toggleable__content {max-height: 0;max-width: 0;overflow: hidden;text-align: left;background-color: #f0f8ff;}#sk-container-id-1 div.sk-toggleable__content pre {margin: 0.2em;color: black;border-radius: 0.25em;background-color: #f0f8ff;}#sk-container-id-1 input.sk-toggleable__control:checked~div.sk-toggleable__content {max-height: 200px;max-width: 100%;overflow: auto;}#sk-container-id-1 input.sk-toggleable__control:checked~label.sk-toggleable__label-arrow:before {content: \"▾\";}#sk-container-id-1 div.sk-estimator input.sk-toggleable__control:checked~label.sk-toggleable__label {background-color: #d4ebff;}#sk-container-id-1 div.sk-label input.sk-toggleable__control:checked~label.sk-toggleable__label {background-color: #d4ebff;}#sk-container-id-1 input.sk-hidden--visually {border: 0;clip: rect(1px 1px 1px 1px);clip: rect(1px, 1px, 1px, 1px);height: 1px;margin: -1px;overflow: hidden;padding: 0;position: absolute;width: 1px;}#sk-container-id-1 div.sk-estimator {font-family: monospace;background-color: #f0f8ff;border: 1px dotted black;border-radius: 0.25em;box-sizing: border-box;margin-bottom: 0.5em;}#sk-container-id-1 div.sk-estimator:hover {background-color: #d4ebff;}#sk-container-id-1 div.sk-parallel-item::after {content: \"\";width: 100%;border-bottom: 1px solid gray;flex-grow: 1;}#sk-container-id-1 div.sk-label:hover label.sk-toggleable__label {background-color: #d4ebff;}#sk-container-id-1 div.sk-serial::before {content: \"\";position: absolute;border-left: 1px solid gray;box-sizing: border-box;top: 0;bottom: 0;left: 50%;z-index: 0;}#sk-container-id-1 div.sk-serial {display: flex;flex-direction: column;align-items: center;background-color: white;padding-right: 0.2em;padding-left: 0.2em;position: relative;}#sk-container-id-1 div.sk-item {position: relative;z-index: 1;}#sk-container-id-1 div.sk-parallel {display: flex;align-items: stretch;justify-content: center;background-color: white;position: relative;}#sk-container-id-1 div.sk-item::before, #sk-container-id-1 div.sk-parallel-item::before {content: \"\";position: absolute;border-left: 1px solid gray;box-sizing: border-box;top: 0;bottom: 0;left: 50%;z-index: -1;}#sk-container-id-1 div.sk-parallel-item {display: flex;flex-direction: column;z-index: 1;position: relative;background-color: white;}#sk-container-id-1 div.sk-parallel-item:first-child::after {align-self: flex-end;width: 50%;}#sk-container-id-1 div.sk-parallel-item:last-child::after {align-self: flex-start;width: 50%;}#sk-container-id-1 div.sk-parallel-item:only-child::after {width: 0;}#sk-container-id-1 div.sk-dashed-wrapped {border: 1px dashed gray;margin: 0 0.4em 0.5em 0.4em;box-sizing: border-box;padding-bottom: 0.4em;background-color: white;}#sk-container-id-1 div.sk-label label {font-family: monospace;font-weight: bold;display: inline-block;line-height: 1.2em;}#sk-container-id-1 div.sk-label-container {text-align: center;}#sk-container-id-1 div.sk-container {/* jupyter's `normalize.less` sets `[hidden] { display: none; }` but bootstrap.min.css set `[hidden] { display: none !important; }` so we also need the `!important` here to be able to override the default hidden behavior on the sphinx rendered scikit-learn.org. See: https://github.com/scikit-learn/scikit-learn/issues/21755 */display: inline-block !important;position: relative;}#sk-container-id-1 div.sk-text-repr-fallback {display: none;}</style><div id=\"sk-container-id-1\" class=\"sk-top-container\"><div class=\"sk-text-repr-fallback\"><pre>GradientBoostingRegressor(random_state=1430)</pre><b>In a Jupyter environment, please rerun this cell to show the HTML representation or trust the notebook. <br />On GitHub, the HTML representation is unable to render, please try loading this page with nbviewer.org.</b></div><div class=\"sk-container\" hidden><div class=\"sk-item\"><div class=\"sk-estimator sk-toggleable\"><input class=\"sk-toggleable__control sk-hidden--visually\" id=\"sk-estimator-id-1\" type=\"checkbox\" checked><label for=\"sk-estimator-id-1\" class=\"sk-toggleable__label sk-toggleable__label-arrow\">GradientBoostingRegressor</label><div class=\"sk-toggleable__content\"><pre>GradientBoostingRegressor(random_state=1430)</pre></div></div></div></div></div>"
      ],
      "text/plain": [
       "GradientBoostingRegressor(random_state=1430)"
      ]
     },
     "execution_count": 19,
     "metadata": {},
     "output_type": "execute_result"
    }
   ],
   "source": [
    "gbm = GradientBoostingRegressor(random_state=SEED+4)\n",
    "gbm.fit(\n",
    "    X=data.loc[data.partition == 'train', feature_names].to_numpy(),\n",
    "    y=data.loc[data.partition == 'train', ['y_true']].to_numpy().ravel()\n",
    ")"
   ]
  },
  {
   "cell_type": "code",
   "execution_count": 20,
   "id": "2768f75e-7fe5-40ee-adfd-b46c250eeb4c",
   "metadata": {},
   "outputs": [
    {
     "data": {
      "text/plain": [
       "(180000,)"
      ]
     },
     "metadata": {},
     "output_type": "display_data"
    },
    {
     "data": {
      "text/html": [
       "<div>\n",
       "<style scoped>\n",
       "    .dataframe tbody tr th:only-of-type {\n",
       "        vertical-align: middle;\n",
       "    }\n",
       "\n",
       "    .dataframe tbody tr th {\n",
       "        vertical-align: top;\n",
       "    }\n",
       "\n",
       "    .dataframe thead th {\n",
       "        text-align: right;\n",
       "    }\n",
       "</style>\n",
       "<table border=\"1\" class=\"dataframe\">\n",
       "  <thead>\n",
       "    <tr style=\"text-align: right;\">\n",
       "      <th></th>\n",
       "      <th>feature1</th>\n",
       "      <th>feature2</th>\n",
       "      <th>feature3</th>\n",
       "      <th>feature4</th>\n",
       "      <th>partition</th>\n",
       "      <th>y_true</th>\n",
       "      <th>y_std</th>\n",
       "      <th>y_pred</th>\n",
       "    </tr>\n",
       "  </thead>\n",
       "  <tbody>\n",
       "    <tr>\n",
       "      <th>0</th>\n",
       "      <td>1.220802</td>\n",
       "      <td>2.190876</td>\n",
       "      <td>0.360013</td>\n",
       "      <td>3.292751</td>\n",
       "      <td>train</td>\n",
       "      <td>-14.210923</td>\n",
       "      <td>10.842207</td>\n",
       "      <td>1.804019</td>\n",
       "    </tr>\n",
       "    <tr>\n",
       "      <th>1</th>\n",
       "      <td>0.461790</td>\n",
       "      <td>3.782660</td>\n",
       "      <td>2.599774</td>\n",
       "      <td>3.282467</td>\n",
       "      <td>train</td>\n",
       "      <td>19.331988</td>\n",
       "      <td>10.774591</td>\n",
       "      <td>7.361359</td>\n",
       "    </tr>\n",
       "    <tr>\n",
       "      <th>2</th>\n",
       "      <td>3.711265</td>\n",
       "      <td>-2.599387</td>\n",
       "      <td>-3.467779</td>\n",
       "      <td>0.871672</td>\n",
       "      <td>train</td>\n",
       "      <td>-11.321392</td>\n",
       "      <td>0.759812</td>\n",
       "      <td>-9.831324</td>\n",
       "    </tr>\n",
       "    <tr>\n",
       "      <th>3</th>\n",
       "      <td>1.448967</td>\n",
       "      <td>-0.240156</td>\n",
       "      <td>0.446262</td>\n",
       "      <td>-2.591261</td>\n",
       "      <td>train</td>\n",
       "      <td>1.631834</td>\n",
       "      <td>6.714633</td>\n",
       "      <td>-0.627180</td>\n",
       "    </tr>\n",
       "    <tr>\n",
       "      <th>4</th>\n",
       "      <td>-0.106896</td>\n",
       "      <td>-0.737643</td>\n",
       "      <td>-0.548846</td>\n",
       "      <td>-1.156195</td>\n",
       "      <td>train</td>\n",
       "      <td>0.604102</td>\n",
       "      <td>1.336787</td>\n",
       "      <td>-0.904592</td>\n",
       "    </tr>\n",
       "  </tbody>\n",
       "</table>\n",
       "</div>"
      ],
      "text/plain": [
       "   feature1  feature2  feature3  feature4 partition     y_true      y_std  \\\n",
       "0  1.220802  2.190876  0.360013  3.292751     train -14.210923  10.842207   \n",
       "1  0.461790  3.782660  2.599774  3.282467     train  19.331988  10.774591   \n",
       "2  3.711265 -2.599387 -3.467779  0.871672     train -11.321392   0.759812   \n",
       "3  1.448967 -0.240156  0.446262 -2.591261     train   1.631834   6.714633   \n",
       "4 -0.106896 -0.737643 -0.548846 -1.156195     train   0.604102   1.336787   \n",
       "\n",
       "     y_pred  \n",
       "0  1.804019  \n",
       "1  7.361359  \n",
       "2 -9.831324  \n",
       "3 -0.627180  \n",
       "4 -0.904592  "
      ]
     },
     "execution_count": 20,
     "metadata": {},
     "output_type": "execute_result"
    }
   ],
   "source": [
    "preds = gbm.predict(data[feature_names].to_numpy())\n",
    "data = data.assign(y_pred = preds)\n",
    "display(preds.shape)\n",
    "data.head()"
   ]
  },
  {
   "cell_type": "code",
   "execution_count": 21,
   "id": "2435e2dc-58a4-4a78-a44c-25b4bfd1b736",
   "metadata": {},
   "outputs": [
    {
     "data": {
      "text/html": [
       "<div>\n",
       "<style scoped>\n",
       "    .dataframe tbody tr th:only-of-type {\n",
       "        vertical-align: middle;\n",
       "    }\n",
       "\n",
       "    .dataframe tbody tr th {\n",
       "        vertical-align: top;\n",
       "    }\n",
       "\n",
       "    .dataframe thead th {\n",
       "        text-align: right;\n",
       "    }\n",
       "</style>\n",
       "<table border=\"1\" class=\"dataframe\">\n",
       "  <thead>\n",
       "    <tr style=\"text-align: right;\">\n",
       "      <th></th>\n",
       "      <th>feature1</th>\n",
       "      <th>feature2</th>\n",
       "      <th>feature3</th>\n",
       "      <th>feature4</th>\n",
       "      <th>partition</th>\n",
       "      <th>y_true</th>\n",
       "      <th>y_std</th>\n",
       "      <th>y_pred</th>\n",
       "      <th>timestamp</th>\n",
       "    </tr>\n",
       "  </thead>\n",
       "  <tbody>\n",
       "    <tr>\n",
       "      <th>179997</th>\n",
       "      <td>-1.603126</td>\n",
       "      <td>-3.259720</td>\n",
       "      <td>-1.519413</td>\n",
       "      <td>-1.670753</td>\n",
       "      <td>analysis</td>\n",
       "      <td>-6.851495</td>\n",
       "      <td>2.791414</td>\n",
       "      <td>-4.136851</td>\n",
       "      <td>2020-07-28 23:54:57.600</td>\n",
       "    </tr>\n",
       "    <tr>\n",
       "      <th>179998</th>\n",
       "      <td>0.604372</td>\n",
       "      <td>1.123468</td>\n",
       "      <td>2.184232</td>\n",
       "      <td>2.148200</td>\n",
       "      <td>analysis</td>\n",
       "      <td>4.991351</td>\n",
       "      <td>4.614764</td>\n",
       "      <td>2.125917</td>\n",
       "      <td>2020-07-28 23:56:38.400</td>\n",
       "    </tr>\n",
       "    <tr>\n",
       "      <th>179999</th>\n",
       "      <td>-0.756963</td>\n",
       "      <td>-1.916099</td>\n",
       "      <td>-0.259686</td>\n",
       "      <td>-0.627646</td>\n",
       "      <td>analysis</td>\n",
       "      <td>-2.596157</td>\n",
       "      <td>0.393940</td>\n",
       "      <td>-3.290826</td>\n",
       "      <td>2020-07-28 23:58:19.200</td>\n",
       "    </tr>\n",
       "  </tbody>\n",
       "</table>\n",
       "</div>"
      ],
      "text/plain": [
       "        feature1  feature2  feature3  feature4 partition    y_true     y_std  \\\n",
       "179997 -1.603126 -3.259720 -1.519413 -1.670753  analysis -6.851495  2.791414   \n",
       "179998  0.604372  1.123468  2.184232  2.148200  analysis  4.991351  4.614764   \n",
       "179999 -0.756963 -1.916099 -0.259686 -0.627646  analysis -2.596157  0.393940   \n",
       "\n",
       "          y_pred               timestamp  \n",
       "179997 -4.136851 2020-07-28 23:54:57.600  \n",
       "179998  2.125917 2020-07-28 23:56:38.400  \n",
       "179999 -3.290826 2020-07-28 23:58:19.200  "
      ]
     },
     "execution_count": 21,
     "metadata": {},
     "output_type": "execute_result"
    }
   ],
   "source": [
    "# add artificiacl timestamp\n",
    "timestamps = [dt.datetime(2020,1,1) + dt.timedelta(weeks=x/6000) for x in data.index]\n",
    "data['timestamp'] = timestamps\n",
    "data.tail(3)"
   ]
  },
  {
   "cell_type": "code",
   "execution_count": 22,
   "id": "de57c256-3e74-483e-b05d-0985a57f609b",
   "metadata": {},
   "outputs": [],
   "source": [
    "data.to_csv('data.csv', index=False)"
   ]
  },
  {
   "cell_type": "code",
   "execution_count": null,
   "id": "aa30ffcb-9557-4e0d-9000-dcc994004500",
   "metadata": {},
   "outputs": [],
   "source": []
  }
 ],
 "metadata": {
  "kernelspec": {
   "display_name": "Python 3 (ipykernel)",
   "language": "python",
   "name": "python3"
  },
  "language_info": {
   "codemirror_mode": {
    "name": "ipython",
    "version": 3
   },
   "file_extension": ".py",
   "mimetype": "text/x-python",
   "name": "python",
   "nbconvert_exporter": "python",
   "pygments_lexer": "ipython3",
   "version": "3.9.13"
  }
 },
 "nbformat": 4,
 "nbformat_minor": 5
}
